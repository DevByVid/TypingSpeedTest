{
 "cells": [
  {
   "cell_type": "code",
   "execution_count": 12,
   "id": "6f230b62",
   "metadata": {},
   "outputs": [
    {
     "name": "stdout",
     "output_type": "stream",
     "text": [
      "Welcome to the Typing Speed Test!\n",
      "\n",
      " TYPE the following idiom as fast as you can: \n",
      "\n",
      "📌 The pen is mightier than the sword.\n",
      "\n",
      " ⏱️ Press Enter when you're ready...\n",
      "\n",
      "\n",
      " START typing and press enter when done:\n",
      "\n",
      "The pen is mightier than the sword\n",
      "\n",
      "RESULTS:\n",
      "Time Taken: 11.62 seconds\n",
      "Words Per Minute: 36\n",
      "❌ Mistakes: 1\n",
      "✅ Accuracy: 97.14 %\n",
      "\n",
      "📝 Feedback:\n",
      "💪 Great job! Just a little more practice.\n"
     ]
    }
   ],
   "source": [
    "import time\n",
    "import random\n",
    "\n",
    "#list of sentences for the typing test\n",
    "sentences = [\n",
    "    \"A stitch in time saves nine.\",\n",
    "    \"Actions speak louder than words.\",\n",
    "    \"Beggars can't be choosers.\",\n",
    "    \"Better late than never.\",\n",
    "    \"Don't count your chickens before they hatch.\",\n",
    "    \"Every cloud has a silver lining.\",\n",
    "    \"Honesty is the best policy.\",\n",
    "    \"Practice makes perfect.\",\n",
    "    \"Rome wasn't built in a day.\",\n",
    "    \"The pen is mightier than the sword.\"\n",
    "]\n",
    "\n",
    "def typing_speed_test():\n",
    "    print(\"Welcome to the Typing Speed Test!\")\n",
    "    sentence=random.choice(sentences)\n",
    "    print(\"\\n TYPE the following idiom as fast as you can: \\n\")\n",
    "    print(\"📌\",sentence)\n",
    "    print(\"\\n ⏱️ Press Enter when you're ready...\")\n",
    "    input()\n",
    "    \n",
    "    #Start the timer\n",
    "    start_time = time.time()\n",
    "    #take input \n",
    "    typed = input(\"\\n START typing and press enter when done:\\n\\n\")\n",
    "\n",
    "    #end the timer\n",
    "    end_time =  time.time()\n",
    "    \n",
    "    \n",
    "    #calculate time taken\n",
    "    time_taken = end_time - start_time\n",
    "    time_taken= round(time_taken,2)\n",
    "\n",
    "    #count words typed\n",
    "    word_count = len(typed.split())\n",
    "\n",
    "    #calculate words per min\n",
    "    wpm = round((word_count/time_taken)*60) if time_taken > 0 else 0\n",
    "\n",
    "    #count mistakes \n",
    "    mistakes = 0\n",
    "\n",
    "    min_len =min(len(sentence),len(typed))\n",
    "\n",
    "\n",
    "    for i in range(min_len):\n",
    "        if sentence[i] != typed[i]:\n",
    "                mistakes += 1\n",
    "        \n",
    "    #add extra char by mistake \n",
    "    mistakes+=abs(len(sentence)- len(typed))\n",
    "\n",
    "    accuracy = ((len(sentence)-  mistakes)/len(sentence)) * 100\n",
    "    accuracy =max(0,round(accuracy,2))# avoid negative error\n",
    "    \n",
    "    #RESULTS\n",
    "    print(\"\\nRESULTS:\")\n",
    "    print(\"Time Taken:\",time_taken,\"seconds\")\n",
    "    print(\"Words Per Minute:\",wpm)\n",
    "    print(\"❌ Mistakes:\", mistakes)\n",
    "    print(\"✅ Accuracy:\", accuracy, \"%\")\n",
    "    \n",
    "    #feedback\n",
    "\n",
    "    print(\"\\n📝 Feedback:\")\n",
    "\n",
    "    if accuracy == 100 and wpm >= 40:\n",
    "        print(\"🌟 Excellent! You’re a typing master.\")\n",
    "    elif accuracy >= 90 and wpm >= 30:\n",
    "        print(\"💪 Great job! Just a little more practice.\")\n",
    "    elif accuracy >= 75 and wpm >= 20:\n",
    "        print(\"🙂 Good effort! Keep practicing for more speed.\")\n",
    "    else:\n",
    "        print(\"🛠️ Don’t worry. Practice daily to improve your typing skills!\")\n",
    "        \n",
    "#call the function\n",
    "typing_speed_test()\n",
    "    "
   ]
  },
  {
   "cell_type": "code",
   "execution_count": 2,
   "id": "3e3830ca",
   "metadata": {},
   "outputs": [
    {
     "name": "stdout",
     "output_type": "stream",
     "text": [
      "\n",
      " START typing and press enter when done:\n",
      "\n",
      "the pen is mightier than the sword.\n"
     ]
    }
   ],
   "source": [
    "#Start the timer\n",
    "start_time = time.time()\n",
    "#take input \n",
    "typed = input(\"\\n START typing and press enter when done:\\n\\n\")\n",
    "\n",
    "#end the timer\n",
    "end_time =  time.time()"
   ]
  },
  {
   "cell_type": "code",
   "execution_count": 4,
   "id": "2d6f7406",
   "metadata": {},
   "outputs": [
    {
     "name": "stdout",
     "output_type": "stream",
     "text": [
      "\n",
      " Time taken : 23.39 seconds\n",
      "Words Per Minute(WPM):  18\n"
     ]
    }
   ],
   "source": [
    "#calculate time taken\n",
    "time_taken = end_time - start_time\n",
    "time_taken= round(time_taken,2)\n",
    "\n",
    "#count words typed\n",
    "word_count = len(typed.split())\n",
    "\n",
    "#calculate words per min\n",
    "wpm = round((word_count/time_taken)*60)\n",
    "\n",
    "print(\"\\n Time taken :\",time_taken,\"seconds\")\n",
    "print(\"Words Per Minute(WPM): \",wpm)"
   ]
  },
  {
   "cell_type": "code",
   "execution_count": 10,
   "id": "931075b7",
   "metadata": {},
   "outputs": [
    {
     "name": "stdout",
     "output_type": "stream",
     "text": [
      "❌ Mistakes: 1\n",
      "✅ Accuracy: 97.14 %\n",
      "\n",
      "📝 Feedback:\n",
      "🛠️ Don’t worry. Practice daily to improve your typing skills!\n"
     ]
    }
   ],
   "source": [
    "#count mistakes \n",
    "mistakes = 0\n",
    "\n",
    "min_len =min(len(sentence),len(typed))\n",
    "\n",
    "\n",
    "for i in range(min_len):\n",
    "        if sentence[i] != typed[i]:\n",
    "                mistakes += 1\n",
    "        \n",
    "#add extra char by mistake \n",
    "mistakes+=abs(len(sentence)- len(typed))\n",
    "\n",
    "accuracy = ((len(sentence)-  mistakes)/len(sentence)) * 100\n",
    "accuracy =max(0,round(accuracy,2))# avoid negative error\n",
    "\n",
    "print(\"❌ Mistakes:\",mistakes)\n",
    "print(\"✅ Accuracy:\", accuracy, \"%\")\n",
    "\n",
    "#feedback\n",
    "\n",
    "print(\"\\n📝 Feedback:\")\n",
    "\n",
    "if accuracy == 100 and wpm >= 40:\n",
    "    print(\"🌟 Excellent! You’re a typing master.\")\n",
    "elif accuracy >= 90 and wpm >= 30:\n",
    "    print(\"💪 Great job! Just a little more practice.\")\n",
    "elif accuracy >= 75 and wpm >= 20:\n",
    "    print(\"🙂 Good effort! Keep practicing for more speed.\")\n",
    "else:\n",
    "    print(\"🛠️ Don’t worry. Practice daily to improve your typing skills!\")"
   ]
  },
  {
   "cell_type": "code",
   "execution_count": null,
   "id": "ec9cc1aa",
   "metadata": {},
   "outputs": [],
   "source": []
  }
 ],
 "metadata": {
  "kernelspec": {
   "display_name": "Python 3 (ipykernel)",
   "language": "python",
   "name": "python3"
  },
  "language_info": {
   "codemirror_mode": {
    "name": "ipython",
    "version": 3
   },
   "file_extension": ".py",
   "mimetype": "text/x-python",
   "name": "python",
   "nbconvert_exporter": "python",
   "pygments_lexer": "ipython3",
   "version": "3.10.9"
  }
 },
 "nbformat": 4,
 "nbformat_minor": 5
}
